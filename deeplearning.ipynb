{
 "cells": [
  {
   "cell_type": "code",
   "execution_count": 1,
   "metadata": {},
   "outputs": [
    {
     "ename": "ModuleNotFoundError",
     "evalue": "No module named 'tensorflow'",
     "output_type": "error",
     "traceback": [
      "\u001b[1;31m---------------------------------------------------------------------------\u001b[0m",
      "\u001b[1;31mModuleNotFoundError\u001b[0m                       Traceback (most recent call last)",
      "Cell \u001b[1;32mIn[1], line 1\u001b[0m\n\u001b[1;32m----> 1\u001b[0m \u001b[38;5;28;01mimport\u001b[39;00m\u001b[38;5;250m \u001b[39m\u001b[38;5;21;01mtensorflow\u001b[39;00m\u001b[38;5;21;01m.\u001b[39;00m\u001b[38;5;21;01mcompat\u001b[39;00m\u001b[38;5;21;01m.\u001b[39;00m\u001b[38;5;21;01mv1\u001b[39;00m\u001b[38;5;250m \u001b[39m\u001b[38;5;28;01mas\u001b[39;00m\u001b[38;5;250m \u001b[39m\u001b[38;5;21;01mtf\u001b[39;00m\n\u001b[0;32m      2\u001b[0m tf\u001b[38;5;241m.\u001b[39mdisable_v2_behavior()\n\u001b[0;32m      3\u001b[0m \u001b[38;5;28;01mimport\u001b[39;00m\u001b[38;5;250m \u001b[39m\u001b[38;5;21;01mnumpy\u001b[39;00m\u001b[38;5;250m \u001b[39m\u001b[38;5;28;01mas\u001b[39;00m\u001b[38;5;250m \u001b[39m\u001b[38;5;21;01mnp\u001b[39;00m\n",
      "\u001b[1;31mModuleNotFoundError\u001b[0m: No module named 'tensorflow'"
     ]
    }
   ],
   "source": [
    "import tensorflow.compat.v1 as tf\n",
    "tf.disable_v2_behavior()\n",
    "import numpy as np\n",
    "import matplotlib.pyplot as plt\n",
    "\n",
    "# Vector addition\n",
    "vector1 = tf.constant([1.0, 2.0, 3.0])\n",
    "vector2 = tf.constant([4.0, 5.0, 6.0])\n",
    "result = tf.add(vector1, vector2)\n",
    "\n",
    "# Function to visualize a tensor\n",
    "def visualize_tensor(tensor_np, title):\n",
    "    plt.imshow(tensor_np.reshape(1, -1), cmap='viridis', aspect='auto')  # Reshape for visualization\n",
    "    plt.colorbar()\n",
    "    plt.title(title)\n",
    "    plt.show()\n",
    "\n",
    "# Execute the computation\n",
    "with tf.compat.v1.Session() as session:\n",
    "    vector1_np, vector2_np, result_np = session.run([vector1, vector2, result])\n",
    "\n",
    "    print(\"Vector 1:\", vector1_np)\n",
    "    print(\"Vector 2:\", vector2_np)\n",
    "    print(\"Vector Sum:\", result_np)\n",
    "\n",
    "    print(\"\\nSize of Vector 1:\", vector1_np.shape)\n",
    "    print(\"Size of Vector 2:\", vector2_np.shape)\n",
    "    print(\"Size of Vector Sum:\", result_np.shape)\n",
    "\n",
    "    visualize_tensor(vector1_np, \"Vector 1\")\n",
    "    visualize_tensor(vector2_np, \"Vector 2\")\n",
    "    visualize_tensor(result_np, \"Vector Sum\")"
   ]
  }
 ],
 "metadata": {
  "kernelspec": {
   "display_name": "Python 3",
   "language": "python",
   "name": "python3"
  },
  "language_info": {
   "codemirror_mode": {
    "name": "ipython",
    "version": 3
   },
   "file_extension": ".py",
   "mimetype": "text/x-python",
   "name": "python",
   "nbconvert_exporter": "python",
   "pygments_lexer": "ipython3",
   "version": "3.13.1"
  }
 },
 "nbformat": 4,
 "nbformat_minor": 2
}
